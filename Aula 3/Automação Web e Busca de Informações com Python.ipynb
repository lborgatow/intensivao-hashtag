{
 "cells": [
  {
   "cell_type": "markdown",
   "metadata": {},
   "source": [
    "# Automação Web e Busca de Informações com Python\n",
    "\n",
    "#### Desafio: \n",
    "\n",
    "Trabalhamos em uma importadora e o preço dos nossos produtos é vinculado a cotação de:\n",
    "- Dólar\n",
    "- Euro\n",
    "- Ouro\n",
    "\n",
    "Precisamos pegar na internet, de forma automática, a cotação desses 3 itens e saber quanto devemos cobrar pelos nossos produtos, considerando uma margem de contribuição que temos na nossa base de dados.\n",
    "\n",
    "Base de Dados: https://drive.google.com/drive/folders/1KmAdo593nD8J9QBaZxPOG1yxHZua4Rtv?usp=sharing\n",
    "\n",
    "Para isso, vamos criar uma automação web:\n",
    "\n",
    "- Usaremos o selenium\n",
    "- Importante: baixar o webdriver"
   ]
  },
  {
   "cell_type": "markdown",
   "metadata": {},
   "source": [
    "### Instalar selenium:\n",
    "\n",
    "!pip install selenium"
   ]
  },
  {
   "cell_type": "code",
   "execution_count": null,
   "metadata": {},
   "outputs": [],
   "source": [
    "#chromedriver --> Chrome\n",
    "# geckodriver --> Firefox\n",
    "\n",
    "from selenium import webdriver                  # Criar o navegador\n",
    "from selenium.webdriver.common.by import By     # Localizar elementos (os itens de um site)\n",
    "from selenium.webdriver.common.keys import Keys # Permite clicar teclas no teclado\n",
    "\n",
    "navegador = webdriver.Chrome()\n",
    "\n",
    "# Passo 1: Entrar no Google\n",
    "navegador.get('https://www.google.com/')\n",
    "\n",
    "# Passo 2: Pesquisar a cotação do dólar\n",
    "navegador.find_element(By.XPATH,\n",
    "                       '/html/body/div[1]/div[3]/form/div[1]/div[1]/div[1]/div/div[2]/input').send_keys('cotação dólar')\n",
    "\n",
    "navegador.find_element(By.XPATH,\n",
    "                       '/html/body/div[1]/div[3]/form/div[1]/div[1]/div[1]/div/div[2]/input').send_keys(Keys.ENTER)\n",
    "\n",
    "# Passo 3: Pegar a cotação do dólar\n",
    "cotacao_dolar = navegador.find_element(By.XPATH, \n",
    "                                       '//*[@id=\"knowledge-currency__updatable-data-column\"]/div[1]/div[2]/span[1]').get_attribute('data-value')\n",
    "print(f'Cotação do dólar: {cotacao_dolar}')\n",
    "\n",
    "# Passo 4: Pegar a cotação do euro\n",
    "navegador.get('https://www.google.com/')\n",
    "\n",
    "navegador.find_element(By.XPATH,\n",
    "                       '/html/body/div[1]/div[3]/form/div[1]/div[1]/div[1]/div/div[2]/input').send_keys('cotação euro')\n",
    "\n",
    "navegador.find_element(By.XPATH,\n",
    "                       '/html/body/div[1]/div[3]/form/div[1]/div[1]/div[1]/div/div[2]/input').send_keys(Keys.ENTER)\n",
    "\n",
    "cotacao_euro = navegador.find_element(By.XPATH, \n",
    "                                      '//*[@id=\"knowledge-currency__updatable-data-column\"]/div[1]/div[2]/span[1]').get_attribute('data-value')\n",
    "print(f'Cotação do euro: {cotacao_euro}')\n",
    "\n",
    "# Passo 5: Pegar a cotação do ouro\n",
    "navegador.get('https://www.melhorcambio.com/ouro-hoje')\n",
    "cotacao_ouro = navegador.find_element(By.XPATH, '//*[@id=\"comercial\"]').get_attribute('value')\n",
    "cotacao_ouro = cotacao_ouro.replace(',', '.')\n",
    "print(f'Cotação do ouro: {cotacao_ouro}')\n",
    "\n",
    "# Fechar automaticamente o navegador quando terminar tudo\n",
    "navegador.quit()"
   ]
  },
  {
   "cell_type": "markdown",
   "metadata": {},
   "source": [
    "### Agora vamos atualiza a nossa base de preços com as novas cotações"
   ]
  },
  {
   "cell_type": "markdown",
   "metadata": {},
   "source": [
    "- Importando a base de dados"
   ]
  },
  {
   "cell_type": "code",
   "execution_count": null,
   "metadata": {
    "scrolled": true
   },
   "outputs": [],
   "source": [
    "import pandas as pd\n",
    "\n",
    "tabela = pd.read_excel('Produtos.xlsx')\n",
    "display(tabela)"
   ]
  },
  {
   "cell_type": "markdown",
   "metadata": {},
   "source": [
    "- Atualizando os preços e o cálculo do Preço Final"
   ]
  },
  {
   "cell_type": "code",
   "execution_count": null,
   "metadata": {},
   "outputs": [],
   "source": [
    "# Passo 6: Atualizar a minha base de dados com as novas cotações\n",
    "# Atualizar a cotação de acordo com a moeda correspondente\n",
    "\n",
    "# dolar\n",
    "# as linhas onde a coluna 'Moeda' == 'Dólar'\n",
    "tabela.loc[tabela['Moeda'] == 'Dólar', 'Cotação'] = float(cotacao_dolar)\n",
    "\n",
    "# euro\n",
    "# as linhas onde a coluna 'Moeda' == 'Euro'\n",
    "tabela.loc[tabela['Moeda'] == 'Euro', 'Cotação'] = float(cotacao_euro)\n",
    "\n",
    "# ouro\n",
    "# as linhas onde a coluna 'Moeda' == 'Ouro'\n",
    "tabela.loc[tabela['Moeda'] == 'Ouro', 'Cotação'] = float(cotacao_ouro)\n",
    "\n",
    "# Atualizar preço de compra = preço original * cotação\n",
    "tabela['Preço de Compra'] = tabela['Preço Original'] * tabela['Cotação']\n",
    "\n",
    "# Atualizar preço de venda = preço de compra * margem\n",
    "tabela['Preço de Venda'] = tabela['Preço de Compra'] * tabela['Margem']\n",
    "\n",
    "display(tabela)"
   ]
  },
  {
   "cell_type": "markdown",
   "metadata": {},
   "source": [
    "### Agora vamos exportar a nova base de preços atualizada"
   ]
  },
  {
   "cell_type": "code",
   "execution_count": null,
   "metadata": {},
   "outputs": [],
   "source": [
    "tabela.to_excel('Produtos_Novos.xlsx', index=False)\n",
    "# index=False --> Salva sem a coluna de índices"
   ]
  }
 ],
 "metadata": {
  "kernelspec": {
   "display_name": "Python 3 (ipykernel)",
   "language": "python",
   "name": "python3"
  },
  "language_info": {
   "codemirror_mode": {
    "name": "ipython",
    "version": 3
   },
   "file_extension": ".py",
   "mimetype": "text/x-python",
   "name": "python",
   "nbconvert_exporter": "python",
   "pygments_lexer": "ipython3",
   "version": "3.9.12"
  }
 },
 "nbformat": 4,
 "nbformat_minor": 4
}
