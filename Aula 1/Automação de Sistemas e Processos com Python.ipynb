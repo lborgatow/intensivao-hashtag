{
 "cells": [
  {
   "cell_type": "markdown",
   "metadata": {
    "id": "nS67H3b6j1aw"
   },
   "source": [
    "# **Automação de Sistemas e Processos com Python**\n",
    "\n",
    "### **Desafio:**\n",
    "\n",
    "Todos os dias, o nosso sistema atualiza as vendas do dia anterior.\n",
    "O seu trabalho diário, como analista, é enviar um e-mail para a diretoria, assim que começar a trabalhar, com o faturamento e a quantidade de produtos vendidos no dia anterior\n",
    "\n",
    "E-mail da diretoria: seugmail+diretoria@gmail.com<br>\n",
    "Local onde o sistema disponibiliza as vendas do dia anterior: https://drive.google.com/drive/folders/149xknr9JvrlEnhNWO49zPcw0PW5icxga?usp=sharing\n",
    "\n",
    "Para resolver isso, vamos usar o pyautogui, uma biblioteca de automação de comandos do mouse e do teclado"
   ]
  },
  {
   "cell_type": "markdown",
   "metadata": {},
   "source": [
    "### **Instalar bibliotecas**\n",
    "\n",
    "- pip install pyautogui\n",
    "- pip install pyperclip"
   ]
  },
  {
   "cell_type": "code",
   "execution_count": 1,
   "metadata": {
    "colab": {
     "base_uri": "https://localhost:8080/",
     "height": 339
    },
    "id": "gqp569lobJFc",
    "outputId": "c716a662-fc0f-47c7-f59a-6cab2d8dcce5"
   },
   "outputs": [],
   "source": [
    "import pyautogui\n",
    "import pyperclip\n",
    "import time"
   ]
  },
  {
   "cell_type": "markdown",
   "metadata": {},
   "source": [
    "### **Use esse código para descobrir qual a posição de um item que queira clicar**\n",
    "\n",
    "- Lembre-se: a posição na sua tela é diferente da posição na minha tela"
   ]
  },
  {
   "cell_type": "code",
   "execution_count": 2,
   "metadata": {},
   "outputs": [
    {
     "name": "stdout",
     "output_type": "stream",
     "text": [
      "Point(x=682, y=214)\n"
     ]
    }
   ],
   "source": [
    "time.sleep(5)  # Esperar para poder posicionar o mouse no local escolhido \n",
    "print(pyautogui.position())  # Tem como saida a posição (de acordo com os pixels) do mouse na tela"
   ]
  },
  {
   "cell_type": "code",
   "execution_count": 3,
   "metadata": {
    "id": "t_x-ez0aj1br"
   },
   "outputs": [],
   "source": [
    "# pyautogui.hotkey --> conjunto de teclas\n",
    "# pyautogui.write --> escrever um texto\n",
    "# pyautogui.press --> apertar 1 tecla\n",
    "# pyautogui.click --> Clica com o botão esquerdo do mouse\n",
    "# pyautogui.doubleClick --> Duplo clique com o botão esquerdo do mouse\n",
    "# pyautogui.rightClick --> Clica com o botão direito do mouse\n",
    "# pyautogui.alert --> emite um alerta na tela\n",
    "# pyperclip.copy --> copia\n",
    "# time.sleep --> tempo de espera especifico para o próximo comando\n",
    "\n",
    "pyautogui.PAUSE = 1  # Faz um intervalo de 1 segundo para executar cada comando\n",
    "\n",
    "# Passo 1: Entrar no sistema da empresa (no nosso caso vai ser o link do drive)\n",
    "pyautogui.press(\"win\")                #\n",
    "pyautogui.write(\"chrome\")             # caso o navegador não esteja aberto, por exemplo\n",
    "pyautogui.press(\"enter\")              #\n",
    "\n",
    "pyautogui.alert(\"Vai começar, aperte em OK e não mexa nada\")\n",
    "pyautogui.click(x=303, y=75)  # Maximizar janela\n",
    "# Usar pyperclip.copy ao invés de pyautogui.write, pois o pyautogui.write não consegue escrever caracteres especiais\n",
    "pyperclip.copy(\"https://drive.google.com/drive/folders/149xknr9JvrlEnhNWO49zPcw0PW5icxga?usp=sharing\")\n",
    "pyautogui.hotkey(\"ctrl\", \"v\")\n",
    "pyautogui.press(\"enter\")\n",
    "\n",
    "# demora alguns segundos (exemplo: esperar baixar um arquivo)\n",
    "time.sleep(5)\n",
    "\n",
    "# Passo 2: Navegar no sistema e encontrar a base de dados (entrar na pasta exportar)\n",
    "pyautogui.click(x=484, y=355, clicks=2)  # Clica 2 vezes no \"Exportar\"\n",
    "# OU: pyautogui.doubleClick(x=380, y=302)\n",
    "\n",
    "# Passo 3: Exportar/Fazer download da base de dados\n",
    "pyautogui.click(x=544, y=358)  # Clicar no arquivo \"Vendas - Dez.xlsx\"\n",
    "pyautogui.click(x=489, y=258)  # Clicar em \"fazer download\"\n",
    "time.sleep(6)"
   ]
  },
  {
   "cell_type": "markdown",
   "metadata": {
    "id": "N5JkIbwsj1b2"
   },
   "source": [
    "### **Vamos agora ler o arquivo baixado para pegar os indicadores**\n",
    "\n",
    "- Faturamento\n",
    "- Quantidade de Produtos"
   ]
  },
  {
   "cell_type": "markdown",
   "metadata": {},
   "source": [
    "### **Instalar as bibliotecas necessárias:**\n",
    "- pip install pandas\n",
    "- pip install openpyxl"
   ]
  },
  {
   "cell_type": "code",
   "execution_count": 4,
   "metadata": {
    "id": "-CNHhvAMj1b7"
   },
   "outputs": [
    {
     "data": {
      "text/html": [
       "<div>\n",
       "<style scoped>\n",
       "    .dataframe tbody tr th:only-of-type {\n",
       "        vertical-align: middle;\n",
       "    }\n",
       "\n",
       "    .dataframe tbody tr th {\n",
       "        vertical-align: top;\n",
       "    }\n",
       "\n",
       "    .dataframe thead th {\n",
       "        text-align: right;\n",
       "    }\n",
       "</style>\n",
       "<table border=\"1\" class=\"dataframe\">\n",
       "  <thead>\n",
       "    <tr style=\"text-align: right;\">\n",
       "      <th></th>\n",
       "      <th>Código Venda</th>\n",
       "      <th>Data</th>\n",
       "      <th>ID Loja</th>\n",
       "      <th>Produto</th>\n",
       "      <th>Quantidade</th>\n",
       "      <th>Valor Unitário</th>\n",
       "      <th>Valor Final</th>\n",
       "    </tr>\n",
       "  </thead>\n",
       "  <tbody>\n",
       "    <tr>\n",
       "      <th>0</th>\n",
       "      <td>65014</td>\n",
       "      <td>2019-12-01</td>\n",
       "      <td>Shopping Morumbi</td>\n",
       "      <td>Sunga Listrado</td>\n",
       "      <td>5</td>\n",
       "      <td>114</td>\n",
       "      <td>570</td>\n",
       "    </tr>\n",
       "    <tr>\n",
       "      <th>1</th>\n",
       "      <td>65014</td>\n",
       "      <td>2019-12-01</td>\n",
       "      <td>Shopping Morumbi</td>\n",
       "      <td>Casaco Listrado</td>\n",
       "      <td>1</td>\n",
       "      <td>269</td>\n",
       "      <td>269</td>\n",
       "    </tr>\n",
       "    <tr>\n",
       "      <th>2</th>\n",
       "      <td>65016</td>\n",
       "      <td>2019-12-01</td>\n",
       "      <td>Iguatemi Campinas</td>\n",
       "      <td>Sapato Listrado</td>\n",
       "      <td>2</td>\n",
       "      <td>363</td>\n",
       "      <td>726</td>\n",
       "    </tr>\n",
       "    <tr>\n",
       "      <th>3</th>\n",
       "      <td>65016</td>\n",
       "      <td>2019-12-01</td>\n",
       "      <td>Iguatemi Campinas</td>\n",
       "      <td>Casaco</td>\n",
       "      <td>1</td>\n",
       "      <td>250</td>\n",
       "      <td>250</td>\n",
       "    </tr>\n",
       "    <tr>\n",
       "      <th>4</th>\n",
       "      <td>65017</td>\n",
       "      <td>2019-12-01</td>\n",
       "      <td>Shopping SP Market</td>\n",
       "      <td>Gorro Liso</td>\n",
       "      <td>3</td>\n",
       "      <td>92</td>\n",
       "      <td>276</td>\n",
       "    </tr>\n",
       "    <tr>\n",
       "      <th>...</th>\n",
       "      <td>...</td>\n",
       "      <td>...</td>\n",
       "      <td>...</td>\n",
       "      <td>...</td>\n",
       "      <td>...</td>\n",
       "      <td>...</td>\n",
       "      <td>...</td>\n",
       "    </tr>\n",
       "    <tr>\n",
       "      <th>7084</th>\n",
       "      <td>69996</td>\n",
       "      <td>2019-12-26</td>\n",
       "      <td>Center Shopping Uberlândia</td>\n",
       "      <td>Short Listrado</td>\n",
       "      <td>2</td>\n",
       "      <td>102</td>\n",
       "      <td>204</td>\n",
       "    </tr>\n",
       "    <tr>\n",
       "      <th>7085</th>\n",
       "      <td>69996</td>\n",
       "      <td>2019-12-26</td>\n",
       "      <td>Center Shopping Uberlândia</td>\n",
       "      <td>Mochila</td>\n",
       "      <td>4</td>\n",
       "      <td>270</td>\n",
       "      <td>1080</td>\n",
       "    </tr>\n",
       "    <tr>\n",
       "      <th>7086</th>\n",
       "      <td>69996</td>\n",
       "      <td>2019-12-26</td>\n",
       "      <td>Center Shopping Uberlândia</td>\n",
       "      <td>Pulseira Estampa</td>\n",
       "      <td>1</td>\n",
       "      <td>87</td>\n",
       "      <td>87</td>\n",
       "    </tr>\n",
       "    <tr>\n",
       "      <th>7087</th>\n",
       "      <td>69997</td>\n",
       "      <td>2019-12-26</td>\n",
       "      <td>Ribeirão Shopping</td>\n",
       "      <td>Camisa Listrado</td>\n",
       "      <td>1</td>\n",
       "      <td>108</td>\n",
       "      <td>108</td>\n",
       "    </tr>\n",
       "    <tr>\n",
       "      <th>7088</th>\n",
       "      <td>69997</td>\n",
       "      <td>2019-12-26</td>\n",
       "      <td>Ribeirão Shopping</td>\n",
       "      <td>Short Linho</td>\n",
       "      <td>2</td>\n",
       "      <td>133</td>\n",
       "      <td>266</td>\n",
       "    </tr>\n",
       "  </tbody>\n",
       "</table>\n",
       "<p>7089 rows × 7 columns</p>\n",
       "</div>"
      ],
      "text/plain": [
       "      Código Venda       Data                     ID Loja           Produto  \\\n",
       "0            65014 2019-12-01            Shopping Morumbi    Sunga Listrado   \n",
       "1            65014 2019-12-01            Shopping Morumbi   Casaco Listrado   \n",
       "2            65016 2019-12-01           Iguatemi Campinas   Sapato Listrado   \n",
       "3            65016 2019-12-01           Iguatemi Campinas            Casaco   \n",
       "4            65017 2019-12-01          Shopping SP Market        Gorro Liso   \n",
       "...            ...        ...                         ...               ...   \n",
       "7084         69996 2019-12-26  Center Shopping Uberlândia    Short Listrado   \n",
       "7085         69996 2019-12-26  Center Shopping Uberlândia           Mochila   \n",
       "7086         69996 2019-12-26  Center Shopping Uberlândia  Pulseira Estampa   \n",
       "7087         69997 2019-12-26           Ribeirão Shopping   Camisa Listrado   \n",
       "7088         69997 2019-12-26           Ribeirão Shopping       Short Linho   \n",
       "\n",
       "      Quantidade  Valor Unitário  Valor Final  \n",
       "0              5             114          570  \n",
       "1              1             269          269  \n",
       "2              2             363          726  \n",
       "3              1             250          250  \n",
       "4              3              92          276  \n",
       "...          ...             ...          ...  \n",
       "7084           2             102          204  \n",
       "7085           4             270         1080  \n",
       "7086           1              87           87  \n",
       "7087           1             108          108  \n",
       "7088           2             133          266  \n",
       "\n",
       "[7089 rows x 7 columns]"
      ]
     },
     "metadata": {},
     "output_type": "display_data"
    }
   ],
   "source": [
    "# Passo 4: Importar a base de dados para o Python\n",
    "import pandas as pd  # Trabalhar com base de dados\n",
    "\n",
    "path = r\"C:\\Users\\Usuario\\Downloads\\Vendas - Dez.xlsx\"  # Caminho onde está o arquivo que será importado\n",
    "tabela = pd.read_excel(path)  # variavel = pd.read_formatoDoArquivo(caminho_arquivo)\n",
    "                              # OBS: se tiver mais de uma aba no arquivo, colocar: ...(caminho_arquivo, sheets=numeroDeAbas)\n",
    "display(tabela)  # Funciona no Jupyter (Mostra a tabela)"
   ]
  },
  {
   "cell_type": "code",
   "execution_count": 5,
   "metadata": {},
   "outputs": [
    {
     "name": "stdout",
     "output_type": "stream",
     "text": [
      "15227\n",
      "2917311\n"
     ]
    }
   ],
   "source": [
    "# Passo 5: Calcular os indicadores\n",
    "# faturamento - soma da coluna \"Valor Final\"\n",
    "faturamento = tabela[\"Valor Final\"].sum()                             # se quisesse a media: .average()\n",
    "# quantidade de produtos vendidos - soma da coluna \"Quantidades\"      # se quisesse a quantidade de itens da coluna: .count()\n",
    "quantidade = tabela[\"Quantidade\"].sum()                               # ...\n",
    "\n",
    "print(quantidade)\n",
    "print(faturamento)"
   ]
  },
  {
   "cell_type": "markdown",
   "metadata": {
    "id": "2j_p8M-nj1cC"
   },
   "source": [
    "### **Vamos agora enviar um e-mail pelo gmail**"
   ]
  },
  {
   "cell_type": "code",
   "execution_count": 6,
   "metadata": {
    "id": "gvjzLl4wj1cH"
   },
   "outputs": [],
   "source": [
    "# Passo 6: Enviar um email para diretoria com o relatório\n",
    "# abrir o email (Link: https://mail.google.com/mail/u/0/#inbox)\n",
    "pyautogui.hotkey(\"ctrl\", \"t\")\n",
    "pyperclip.copy(\"https://mail.google.com/mail/u/0/#inbox\")\n",
    "pyautogui.hotkey(\"ctrl\", \"v\")\n",
    "pyautogui.press(\"enter\")\n",
    "time.sleep(7)\n",
    "\n",
    "# clicar no \"Escrever\"\n",
    "pyautogui.click(x=99, y=208)\n",
    "time.sleep(2)\n",
    "\n",
    "# escreve o email destinatário\n",
    "pyautogui.write(\"testesprogram0@gmail.com\")\n",
    "pyautogui.press(\"tab\")  # seleciona o destinatario\n",
    "# Repetir o processo de cima quantas vezes forem necessárias de acordo com o número de destinatários\n",
    "pyautogui.press(\"tab\")  # passa para o campo de assunto\n",
    "\n",
    "# escreve o assunto\n",
    "pyperclip.copy(\"Relatório de Vendas\")\n",
    "pyautogui.hotkey(\"ctrl\", \"v\")\n",
    "pyautogui.press(\"tab\")\n",
    "\n",
    "# escreve o corpo do email\n",
    "texto = f\"\"\"\n",
    "Prezados, bom dia\n",
    "\n",
    "O faturamento de ontem foi de: R${faturamento:,.2f}\n",
    "A quantidade de produtos foi de: {quantidade:,}\n",
    "\n",
    "Abs\n",
    "Leonardo\"\"\"                       # variavel:,.2f --> , = casa do milhar\n",
    "                                  #                   . = casa decimal\n",
    "pyperclip.copy(texto)\n",
    "pyautogui.hotkey(\"ctrl\", \"v\")\n",
    "\n",
    "# envia o email\n",
    "pyautogui.hotkey(\"ctrl\", \"enter\")"
   ]
  }
 ],
 "metadata": {
  "colab": {
   "collapsed_sections": [],
   "name": "Arquivo Inicial - Aula 1.ipynb",
   "provenance": []
  },
  "kernelspec": {
   "display_name": "Python 3 (ipykernel)",
   "language": "python",
   "name": "python3"
  },
  "language_info": {
   "codemirror_mode": {
    "name": "ipython",
    "version": 3
   },
   "file_extension": ".py",
   "mimetype": "text/x-python",
   "name": "python",
   "nbconvert_exporter": "python",
   "pygments_lexer": "ipython3",
   "version": "3.10.7"
  }
 },
 "nbformat": 4,
 "nbformat_minor": 1
}
