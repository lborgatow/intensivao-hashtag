{
 "cells": [
  {
   "cell_type": "markdown",
   "metadata": {
    "id": "nS67H3b6j1aw"
   },
   "source": [
    "# Automação de Sistemas e Processos com Python\n",
    "\n",
    "### Desafio:\n",
    "\n",
    "Todos os dias, o nosso sistema atualiza as vendas do dia anterior.\n",
    "O seu trabalho diário, como analista, é enviar um e-mail para a diretoria, assim que começar a trabalhar, com o faturamento e a quantidade de produtos vendidos no dia anterior\n",
    "\n",
    "E-mail da diretoria: seugmail+diretoria@gmail.com<br>\n",
    "Local onde o sistema disponibiliza as vendas do dia anterior: https://drive.google.com/drive/folders/149xknr9JvrlEnhNWO49zPcw0PW5icxga?usp=sharing\n",
    "\n",
    "Para resolver isso, vamos usar o pyautogui, uma biblioteca de automação de comandos do mouse e do teclado"
   ]
  },
  {
   "cell_type": "markdown",
   "metadata": {},
   "source": [
    "### Instalar bibliotecas:\n",
    "\n",
    "- !pip install pyautogui\n",
    "- !pip install pyperclip"
   ]
  },
  {
   "cell_type": "code",
   "execution_count": null,
   "metadata": {
    "colab": {
     "base_uri": "https://localhost:8080/",
     "height": 339
    },
    "id": "gqp569lobJFc",
    "outputId": "c716a662-fc0f-47c7-f59a-6cab2d8dcce5"
   },
   "outputs": [],
   "source": [
    "import pyautogui\n",
    "import pyperclip\n",
    "import time"
   ]
  },
  {
   "cell_type": "code",
   "execution_count": null,
   "metadata": {
    "id": "t_x-ez0aj1br"
   },
   "outputs": [],
   "source": [
    "# pyautogui.hotkey --> conjunto de teclas\n",
    "# pyautogui.write --> escrever um texto\n",
    "# pyautogui.press --> apertar 1 tecla\n",
    "# pyautogui.click --> Clica com o botão esquerdo do mouse\n",
    "# pyautogui.doubleClick --> Duplo clique com o botão esquerdo do mouse\n",
    "# pyautogui.rightClick --> Clica com o botão direito do mouse\n",
    "# pyautogui.alert --> emite um alerta na tela\n",
    "# pyperclip.copy --> copia\n",
    "# time.sleep --> tempo de espera especifico para o próximo comando\n",
    "\n",
    "pyautogui.PAUSE = 1  # Faz um intervalo de 1 segundo para executar cada comando\n",
    "\n",
    "# Passo 1: Entrar no sistema da empresa (no nosso caso vai ser o link do drive)\n",
    "pyautogui.press(\"win\")                #\n",
    "pyautogui.write(\"chrome\")             # caso o navegador não esteja aberto, por exemplo\n",
    "pyautogui.press(\"enter\")              #\n",
    "\n",
    "pyautogui.alert(\"Vai começar, aperte em OK e não mexa nada\")  \n",
    "pyautogui.hotkey(\"ctrl\", \"t\")  # Abre uma aba no navegador\n",
    "# Usar pyperclip.copy ao invés de pyautogui.write, pois o pyautogui.write não consegue escrever caracteres especiais\n",
    "pyperclip.copy(\"https://drive.google.com/drive/folders/149xknr9JvrlEnhNWO49zPcw0PW5icxga?usp=sharing\")\n",
    "pyautogui.hotkey(\"ctrl\", \"v\")\n",
    "pyautogui.press(\"enter\")\n",
    "\n",
    "# demora alguns segundos (exemplo: esperar baixar um arquivo)\n",
    "time.sleep(5)\n",
    "\n",
    "# Passo 2: Navegar no sistema e encontrar a base de dados (entrar na pasta exportar)\n",
    "pyautogui.click(x=380, y=302, clicks=2)  # Clica 2 vezes no \"Exportar\"\n",
    "# OU: pyautogui.doubleClick(x=380, y=302)\n",
    "\n",
    "# Passo 3: Exportar/Fazer download da base de dados\n",
    "pyautogui.click(x=386, y=387)  # Clicar no arquivo \"Vendas - Dez.xlsx\"\n",
    "pyautogui.click(x=1156, y=188)  # Clicar nos 3 pontinhos (...)\n",
    "pyautogui.click(x=913, y=626)  # Clicar no \"Fazer download\"\n",
    "time.sleep(5)"
   ]
  },
  {
   "cell_type": "markdown",
   "metadata": {
    "id": "N5JkIbwsj1b2"
   },
   "source": [
    "### Vamos agora ler o arquivo baixado para pegar os indicadores\n",
    "\n",
    "- Faturamento\n",
    "- Quantidade de Produtos"
   ]
  },
  {
   "cell_type": "code",
   "execution_count": null,
   "metadata": {
    "id": "-CNHhvAMj1b7"
   },
   "outputs": [],
   "source": [
    "# Passo 4: Importar a base de dados para o Python\n",
    "import pandas as pd  # Trabalhar com base de dados\n",
    "\n",
    "path = r\"C:\\Users\\Usuario\\Downloads\\Vendas - Dez.xlsx\"  # Caminho onde está o arquivo que será importado\n",
    "tabela = pd.read_excel(path)  # variavel = pd.read_formatoDoArquivo(caminho_arquivo)\n",
    "                              # OBS: se tiver mais de uma aba no arquivo, colocar: ...(caminho_arquivo, sheets=numeroDeAbas)\n",
    "display(tabela)  # Funciona no Jupyter (Mostra a tabela)"
   ]
  },
  {
   "cell_type": "code",
   "execution_count": null,
   "metadata": {},
   "outputs": [],
   "source": [
    "# Passo 5: Calcular os indicadores\n",
    "# faturamento - soma da coluna \"Valor Final\"\n",
    "faturamento = tabela[\"Valor Final\"].sum()                             # se quisesse a media: .average()\n",
    "# quantidade de produtos vendidos - soma da coluna \"Quantidades\"      # se quisesse a quantidade de itens da coluna: .count()\n",
    "quantidade = tabela[\"Quantidade\"].sum()                               # ...\n",
    "\n",
    "print(quantidade)\n",
    "print(faturamento)"
   ]
  },
  {
   "cell_type": "markdown",
   "metadata": {
    "id": "2j_p8M-nj1cC"
   },
   "source": [
    "### Vamos agora enviar um e-mail pelo gmail"
   ]
  },
  {
   "cell_type": "code",
   "execution_count": null,
   "metadata": {
    "id": "gvjzLl4wj1cH"
   },
   "outputs": [],
   "source": [
    "# Passo 6: Enviar um email para diretoria com o relatório\n",
    "# abrir o email (Link: https://mail.google.com/mail/u/0/#inbox)\n",
    "pyautogui.hotkey(\"ctrl\", \"t\")\n",
    "pyperclip.copy(\"https://mail.google.com/mail/u/0/#inbox\")\n",
    "pyautogui.hotkey(\"ctrl\", \"v\")\n",
    "pyautogui.press(\"enter\")\n",
    "time.sleep(7)\n",
    "\n",
    "# clicar no \"Escrever\"\n",
    "pyautogui.click(x=97, y=199)\n",
    "time.sleep(2)\n",
    "\n",
    "# escreve o email destinatário\n",
    "pyautogui.write(\"testesprogram0@gmail.com\")\n",
    "pyautogui.press(\"tab\")  # seleciona o destinatario\n",
    "# Repetir o processo de cima quantas vezes forem necessárias de acordo com o número de destinatários\n",
    "pyautogui.press(\"tab\")  # passa para o campo de assunto\n",
    "\n",
    "# escreve o assunto\n",
    "pyperclip.copy(\"Relatório de Vendas\")\n",
    "pyautogui.hotkey(\"ctrl\", \"v\")\n",
    "pyautogui.press(\"tab\")\n",
    "\n",
    "# escreve o corpo do email\n",
    "texto = f\"\"\"\n",
    "Prezados, bom dia\n",
    "\n",
    "O faturamento de ontem foi de: R${faturamento:,.2f}\n",
    "A quantidade de produtos foi de: {quantidade:,}\n",
    "\n",
    "Abs\n",
    "Leonardo\"\"\"                       # variavel:,.2f --> , = casa do milhar\n",
    "                                  #                   . = casa decimal\n",
    "pyperclip.copy(texto)\n",
    "pyautogui.hotkey(\"ctrl\", \"v\")\n",
    "\n",
    "# envia o email\n",
    "pyautogui.hotkey(\"ctrl\", \"enter\")"
   ]
  },
  {
   "cell_type": "markdown",
   "metadata": {
    "id": "TG4WfHDNj1cK"
   },
   "source": [
    "#### Use esse código para descobrir qual a posição de um item que queira clicar\n",
    "\n",
    "- Lembre-se: a posição na sua tela é diferente da posição na minha tela"
   ]
  },
  {
   "cell_type": "code",
   "execution_count": null,
   "metadata": {
    "id": "cWj-Jrdcj1cb"
   },
   "outputs": [],
   "source": [
    "time.sleep(5)  # Esperar para poder posicionar o mouse no local escolhido \n",
    "print(pyautogui.position())  # Tem como saida a posição (de acordo com os pixels) do mouse na tela"
   ]
  }
 ],
 "metadata": {
  "colab": {
   "collapsed_sections": [],
   "name": "Arquivo Inicial - Aula 1.ipynb",
   "provenance": []
  },
  "kernelspec": {
   "display_name": "Python 3 (ipykernel)",
   "language": "python",
   "name": "python3"
  },
  "language_info": {
   "codemirror_mode": {
    "name": "ipython",
    "version": 3
   },
   "file_extension": ".py",
   "mimetype": "text/x-python",
   "name": "python",
   "nbconvert_exporter": "python",
   "pygments_lexer": "ipython3",
   "version": "3.9.12"
  }
 },
 "nbformat": 4,
 "nbformat_minor": 1
}
